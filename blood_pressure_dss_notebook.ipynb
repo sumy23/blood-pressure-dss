{
 "cells": [
  {
   "cell_type": "markdown",
   "id": "1efe9edc",
   "metadata": {},
   "source": [
    "# Blood Pressure Disorder Prediction\n",
    "This notebook demonstrates a Decision Support System for predicting blood pressure disorders using machine learning."
   ]
  },
  {
   "cell_type": "code",
   "execution_count": null,
   "id": "c01f632f",
   "metadata": {},
   "outputs": [],
   "source": [
    "# Import required libraries\n",
    "import pandas as pd\n",
    "import numpy as np\n",
    "import matplotlib.pyplot as plt\n",
    "import seaborn as sns\n",
    "from sklearn.ensemble import RandomForestClassifier\n",
    "from sklearn.tree import DecisionTreeClassifier\n",
    "from xgboost import XGBClassifier\n",
    "from sklearn.model_selection import train_test_split, cross_val_score\n",
    "from sklearn.metrics import classification_report, confusion_matrix, roc_auc_score, roc_curve\n"
   ]
  },
  {
   "cell_type": "markdown",
   "id": "1d20f06a",
   "metadata": {},
   "source": [
    "## Load Dataset"
   ]
  },
  {
   "cell_type": "code",
   "execution_count": null,
   "id": "44d03150",
   "metadata": {},
   "outputs": [],
   "source": [
    "# Example: Replace with your dataset path\n",
    "# df = pd.read_csv('data/framingham.csv')\n",
    "# For now, simulate with random structure\n",
    "df = pd.DataFrame({\n",
    "    'age': np.random.randint(30, 70, 100),\n",
    "    'BMI': np.random.uniform(18, 35, 100),\n",
    "    'heartRate': np.random.randint(60, 100, 100),\n",
    "    'glucose': np.random.randint(70, 180, 100),\n",
    "    'totChol': np.random.randint(150, 250, 100),\n",
    "    'TenYearCHD': np.random.randint(0, 2, 100)\n",
    "})\n",
    "df.head()\n"
   ]
  },
  {
   "cell_type": "markdown",
   "id": "29e74bac",
   "metadata": {},
   "source": [
    "## Train Model"
   ]
  },
  {
   "cell_type": "code",
   "execution_count": null,
   "id": "c6670622",
   "metadata": {},
   "outputs": [],
   "source": [
    "# Features and target\n",
    "X = df.drop('TenYearCHD', axis=1)\n",
    "y = df['TenYearCHD']\n",
    "\n",
    "# Train-test split\n",
    "X_train, X_test, y_train, y_test = train_test_split(X, y, test_size=0.2, random_state=42)\n",
    "\n",
    "# Random Forest\n",
    "rf = RandomForestClassifier(n_estimators=100, random_state=42)\n",
    "rf.fit(X_train, y_train)\n",
    "y_pred = rf.predict(X_test)\n",
    "\n",
    "# Evaluation\n",
    "print(classification_report(y_test, y_pred))\n",
    "print(\"ROC AUC:\", roc_auc_score(y_test, rf.predict_proba(X_test)[:, 1]))\n"
   ]
  },
  {
   "cell_type": "markdown",
   "id": "d73d83fb",
   "metadata": {},
   "source": [
    "## ROC Curve"
   ]
  },
  {
   "cell_type": "code",
   "execution_count": null,
   "id": "13ef15eb",
   "metadata": {},
   "outputs": [],
   "source": [
    "fpr, tpr, _ = roc_curve(y_test, rf.predict_proba(X_test)[:,1])\n",
    "plt.figure(figsize=(8,6))\n",
    "plt.plot(fpr, tpr, label=\"Random Forest (AUC = {:.2f})\".format(roc_auc_score(y_test, rf.predict_proba(X_test)[:,1])))\n",
    "plt.plot([0,1], [0,1], 'k--', label='Random Guess')\n",
    "plt.xlabel(\"False Positive Rate\")\n",
    "plt.ylabel(\"True Positive Rate\")\n",
    "plt.title(\"ROC Curve\")\n",
    "plt.legend()\n",
    "plt.grid()\n",
    "plt.show()\n"
   ]
  }
 ],
 "metadata": {},
 "nbformat": 4,
 "nbformat_minor": 5
}
